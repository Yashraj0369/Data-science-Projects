{
 "cells": [
  {
   "cell_type": "code",
   "execution_count": 1,
   "id": "e5743554-c7c5-4605-85be-a8fedbb8d14b",
   "metadata": {},
   "outputs": [],
   "source": [
    "import pandas as pd\n",
    "import numpy as np\n",
    "import matplotlib.pyplot as plt\n",
    "import seaborn as sns"
   ]
  },
  {
   "cell_type": "code",
   "execution_count": 2,
   "id": "3541779e-cd59-4dcd-8364-8b0ce7cc057c",
   "metadata": {},
   "outputs": [],
   "source": [
    "sales = pd.read_csv('amazon/amazon.csv')"
   ]
  },
  {
   "cell_type": "code",
   "execution_count": 3,
   "id": "1d03bca4-2ae9-4499-bf8b-4d3248dafe5c",
   "metadata": {},
   "outputs": [
    {
     "data": {
      "text/html": [
       "<div>\n",
       "<style scoped>\n",
       "    .dataframe tbody tr th:only-of-type {\n",
       "        vertical-align: middle;\n",
       "    }\n",
       "\n",
       "    .dataframe tbody tr th {\n",
       "        vertical-align: top;\n",
       "    }\n",
       "\n",
       "    .dataframe thead th {\n",
       "        text-align: right;\n",
       "    }\n",
       "</style>\n",
       "<table border=\"1\" class=\"dataframe\">\n",
       "  <thead>\n",
       "    <tr style=\"text-align: right;\">\n",
       "      <th></th>\n",
       "      <th>product_id</th>\n",
       "      <th>product_name</th>\n",
       "      <th>category</th>\n",
       "      <th>discounted_price</th>\n",
       "      <th>actual_price</th>\n",
       "      <th>discount_percentage</th>\n",
       "      <th>rating</th>\n",
       "      <th>rating_count</th>\n",
       "      <th>about_product</th>\n",
       "      <th>user_id</th>\n",
       "      <th>user_name</th>\n",
       "      <th>review_id</th>\n",
       "      <th>review_title</th>\n",
       "      <th>review_content</th>\n",
       "      <th>img_link</th>\n",
       "      <th>product_link</th>\n",
       "    </tr>\n",
       "  </thead>\n",
       "  <tbody>\n",
       "    <tr>\n",
       "      <th>0</th>\n",
       "      <td>B07JW9H4J1</td>\n",
       "      <td>Wayona Nylon Braided USB to Lightning Fast Cha...</td>\n",
       "      <td>Computers&amp;Accessories|Accessories&amp;Peripherals|...</td>\n",
       "      <td>₹399</td>\n",
       "      <td>₹1,099</td>\n",
       "      <td>64%</td>\n",
       "      <td>4.2</td>\n",
       "      <td>24,269</td>\n",
       "      <td>High Compatibility : Compatible With iPhone 12...</td>\n",
       "      <td>AG3D6O4STAQKAY2UVGEUV46KN35Q,AHMY5CWJMMK5BJRBB...</td>\n",
       "      <td>Manav,Adarsh gupta,Sundeep,S.Sayeed Ahmed,jasp...</td>\n",
       "      <td>R3HXWT0LRP0NMF,R2AJM3LFTLZHFO,R6AQJGUP6P86,R1K...</td>\n",
       "      <td>Satisfied,Charging is really fast,Value for mo...</td>\n",
       "      <td>Looks durable Charging is fine tooNo complains...</td>\n",
       "      <td>https://m.media-amazon.com/images/W/WEBP_40237...</td>\n",
       "      <td>https://www.amazon.in/Wayona-Braided-WN3LG1-Sy...</td>\n",
       "    </tr>\n",
       "    <tr>\n",
       "      <th>1</th>\n",
       "      <td>B098NS6PVG</td>\n",
       "      <td>Ambrane Unbreakable 60W / 3A Fast Charging 1.5...</td>\n",
       "      <td>Computers&amp;Accessories|Accessories&amp;Peripherals|...</td>\n",
       "      <td>₹199</td>\n",
       "      <td>₹349</td>\n",
       "      <td>43%</td>\n",
       "      <td>4.0</td>\n",
       "      <td>43,994</td>\n",
       "      <td>Compatible with all Type C enabled devices, be...</td>\n",
       "      <td>AECPFYFQVRUWC3KGNLJIOREFP5LQ,AGYYVPDD7YG7FYNBX...</td>\n",
       "      <td>ArdKn,Nirbhay kumar,Sagar Viswanathan,Asp,Plac...</td>\n",
       "      <td>RGIQEG07R9HS2,R1SMWZQ86XIN8U,R2J3Y1WL29GWDE,RY...</td>\n",
       "      <td>A Good Braided Cable for Your Type C Device,Go...</td>\n",
       "      <td>I ordered this cable to connect my phone to An...</td>\n",
       "      <td>https://m.media-amazon.com/images/W/WEBP_40237...</td>\n",
       "      <td>https://www.amazon.in/Ambrane-Unbreakable-Char...</td>\n",
       "    </tr>\n",
       "    <tr>\n",
       "      <th>2</th>\n",
       "      <td>B096MSW6CT</td>\n",
       "      <td>Sounce Fast Phone Charging Cable &amp; Data Sync U...</td>\n",
       "      <td>Computers&amp;Accessories|Accessories&amp;Peripherals|...</td>\n",
       "      <td>₹199</td>\n",
       "      <td>₹1,899</td>\n",
       "      <td>90%</td>\n",
       "      <td>3.9</td>\n",
       "      <td>7,928</td>\n",
       "      <td>【 Fast Charger&amp; Data Sync】-With built-in safet...</td>\n",
       "      <td>AGU3BBQ2V2DDAMOAKGFAWDDQ6QHA,AESFLDV2PT363T2AQ...</td>\n",
       "      <td>Kunal,Himanshu,viswanath,sai niharka,saqib mal...</td>\n",
       "      <td>R3J3EQQ9TZI5ZJ,R3E7WBGK7ID0KV,RWU79XKQ6I1QF,R2...</td>\n",
       "      <td>Good speed for earlier versions,Good Product,W...</td>\n",
       "      <td>Not quite durable and sturdy,https://m.media-a...</td>\n",
       "      <td>https://m.media-amazon.com/images/W/WEBP_40237...</td>\n",
       "      <td>https://www.amazon.in/Sounce-iPhone-Charging-C...</td>\n",
       "    </tr>\n",
       "    <tr>\n",
       "      <th>3</th>\n",
       "      <td>B08HDJ86NZ</td>\n",
       "      <td>boAt Deuce USB 300 2 in 1 Type-C &amp; Micro USB S...</td>\n",
       "      <td>Computers&amp;Accessories|Accessories&amp;Peripherals|...</td>\n",
       "      <td>₹329</td>\n",
       "      <td>₹699</td>\n",
       "      <td>53%</td>\n",
       "      <td>4.2</td>\n",
       "      <td>94,363</td>\n",
       "      <td>The boAt Deuce USB 300 2 in 1 cable is compati...</td>\n",
       "      <td>AEWAZDZZJLQUYVOVGBEUKSLXHQ5A,AG5HTSFRRE6NL3M5S...</td>\n",
       "      <td>Omkar dhale,JD,HEMALATHA,Ajwadh a.,amar singh ...</td>\n",
       "      <td>R3EEUZKKK9J36I,R3HJVYCLYOY554,REDECAZ7AMPQC,R1...</td>\n",
       "      <td>Good product,Good one,Nice,Really nice product...</td>\n",
       "      <td>Good product,long wire,Charges good,Nice,I bou...</td>\n",
       "      <td>https://m.media-amazon.com/images/I/41V5FtEWPk...</td>\n",
       "      <td>https://www.amazon.in/Deuce-300-Resistant-Tang...</td>\n",
       "    </tr>\n",
       "    <tr>\n",
       "      <th>4</th>\n",
       "      <td>B08CF3B7N1</td>\n",
       "      <td>Portronics Konnect L 1.2M Fast Charging 3A 8 P...</td>\n",
       "      <td>Computers&amp;Accessories|Accessories&amp;Peripherals|...</td>\n",
       "      <td>₹154</td>\n",
       "      <td>₹399</td>\n",
       "      <td>61%</td>\n",
       "      <td>4.2</td>\n",
       "      <td>16,905</td>\n",
       "      <td>[CHARGE &amp; SYNC FUNCTION]- This cable comes wit...</td>\n",
       "      <td>AE3Q6KSUK5P75D5HFYHCRAOLODSA,AFUGIFH5ZAFXRDSZH...</td>\n",
       "      <td>rahuls6099,Swasat Borah,Ajay Wadke,Pranali,RVK...</td>\n",
       "      <td>R1BP4L2HH9TFUP,R16PVJEXKV6QZS,R2UPDB81N66T4P,R...</td>\n",
       "      <td>As good as original,Decent,Good one for second...</td>\n",
       "      <td>Bought this instead of original apple, does th...</td>\n",
       "      <td>https://m.media-amazon.com/images/W/WEBP_40237...</td>\n",
       "      <td>https://www.amazon.in/Portronics-Konnect-POR-1...</td>\n",
       "    </tr>\n",
       "  </tbody>\n",
       "</table>\n",
       "</div>"
      ],
      "text/plain": [
       "   product_id                                       product_name  \\\n",
       "0  B07JW9H4J1  Wayona Nylon Braided USB to Lightning Fast Cha...   \n",
       "1  B098NS6PVG  Ambrane Unbreakable 60W / 3A Fast Charging 1.5...   \n",
       "2  B096MSW6CT  Sounce Fast Phone Charging Cable & Data Sync U...   \n",
       "3  B08HDJ86NZ  boAt Deuce USB 300 2 in 1 Type-C & Micro USB S...   \n",
       "4  B08CF3B7N1  Portronics Konnect L 1.2M Fast Charging 3A 8 P...   \n",
       "\n",
       "                                            category discounted_price  \\\n",
       "0  Computers&Accessories|Accessories&Peripherals|...             ₹399   \n",
       "1  Computers&Accessories|Accessories&Peripherals|...             ₹199   \n",
       "2  Computers&Accessories|Accessories&Peripherals|...             ₹199   \n",
       "3  Computers&Accessories|Accessories&Peripherals|...             ₹329   \n",
       "4  Computers&Accessories|Accessories&Peripherals|...             ₹154   \n",
       "\n",
       "  actual_price discount_percentage rating rating_count  \\\n",
       "0       ₹1,099                 64%    4.2       24,269   \n",
       "1         ₹349                 43%    4.0       43,994   \n",
       "2       ₹1,899                 90%    3.9        7,928   \n",
       "3         ₹699                 53%    4.2       94,363   \n",
       "4         ₹399                 61%    4.2       16,905   \n",
       "\n",
       "                                       about_product  \\\n",
       "0  High Compatibility : Compatible With iPhone 12...   \n",
       "1  Compatible with all Type C enabled devices, be...   \n",
       "2  【 Fast Charger& Data Sync】-With built-in safet...   \n",
       "3  The boAt Deuce USB 300 2 in 1 cable is compati...   \n",
       "4  [CHARGE & SYNC FUNCTION]- This cable comes wit...   \n",
       "\n",
       "                                             user_id  \\\n",
       "0  AG3D6O4STAQKAY2UVGEUV46KN35Q,AHMY5CWJMMK5BJRBB...   \n",
       "1  AECPFYFQVRUWC3KGNLJIOREFP5LQ,AGYYVPDD7YG7FYNBX...   \n",
       "2  AGU3BBQ2V2DDAMOAKGFAWDDQ6QHA,AESFLDV2PT363T2AQ...   \n",
       "3  AEWAZDZZJLQUYVOVGBEUKSLXHQ5A,AG5HTSFRRE6NL3M5S...   \n",
       "4  AE3Q6KSUK5P75D5HFYHCRAOLODSA,AFUGIFH5ZAFXRDSZH...   \n",
       "\n",
       "                                           user_name  \\\n",
       "0  Manav,Adarsh gupta,Sundeep,S.Sayeed Ahmed,jasp...   \n",
       "1  ArdKn,Nirbhay kumar,Sagar Viswanathan,Asp,Plac...   \n",
       "2  Kunal,Himanshu,viswanath,sai niharka,saqib mal...   \n",
       "3  Omkar dhale,JD,HEMALATHA,Ajwadh a.,amar singh ...   \n",
       "4  rahuls6099,Swasat Borah,Ajay Wadke,Pranali,RVK...   \n",
       "\n",
       "                                           review_id  \\\n",
       "0  R3HXWT0LRP0NMF,R2AJM3LFTLZHFO,R6AQJGUP6P86,R1K...   \n",
       "1  RGIQEG07R9HS2,R1SMWZQ86XIN8U,R2J3Y1WL29GWDE,RY...   \n",
       "2  R3J3EQQ9TZI5ZJ,R3E7WBGK7ID0KV,RWU79XKQ6I1QF,R2...   \n",
       "3  R3EEUZKKK9J36I,R3HJVYCLYOY554,REDECAZ7AMPQC,R1...   \n",
       "4  R1BP4L2HH9TFUP,R16PVJEXKV6QZS,R2UPDB81N66T4P,R...   \n",
       "\n",
       "                                        review_title  \\\n",
       "0  Satisfied,Charging is really fast,Value for mo...   \n",
       "1  A Good Braided Cable for Your Type C Device,Go...   \n",
       "2  Good speed for earlier versions,Good Product,W...   \n",
       "3  Good product,Good one,Nice,Really nice product...   \n",
       "4  As good as original,Decent,Good one for second...   \n",
       "\n",
       "                                      review_content  \\\n",
       "0  Looks durable Charging is fine tooNo complains...   \n",
       "1  I ordered this cable to connect my phone to An...   \n",
       "2  Not quite durable and sturdy,https://m.media-a...   \n",
       "3  Good product,long wire,Charges good,Nice,I bou...   \n",
       "4  Bought this instead of original apple, does th...   \n",
       "\n",
       "                                            img_link  \\\n",
       "0  https://m.media-amazon.com/images/W/WEBP_40237...   \n",
       "1  https://m.media-amazon.com/images/W/WEBP_40237...   \n",
       "2  https://m.media-amazon.com/images/W/WEBP_40237...   \n",
       "3  https://m.media-amazon.com/images/I/41V5FtEWPk...   \n",
       "4  https://m.media-amazon.com/images/W/WEBP_40237...   \n",
       "\n",
       "                                        product_link  \n",
       "0  https://www.amazon.in/Wayona-Braided-WN3LG1-Sy...  \n",
       "1  https://www.amazon.in/Ambrane-Unbreakable-Char...  \n",
       "2  https://www.amazon.in/Sounce-iPhone-Charging-C...  \n",
       "3  https://www.amazon.in/Deuce-300-Resistant-Tang...  \n",
       "4  https://www.amazon.in/Portronics-Konnect-POR-1...  "
      ]
     },
     "execution_count": 3,
     "metadata": {},
     "output_type": "execute_result"
    }
   ],
   "source": [
    "sales.head()"
   ]
  },
  {
   "cell_type": "code",
   "execution_count": 4,
   "id": "62a2ab2d-5103-4b67-9932-5b611af2f8f6",
   "metadata": {},
   "outputs": [
    {
     "name": "stdout",
     "output_type": "stream",
     "text": [
      "Index(['product_id', 'product_name', 'category', 'discounted_price',\n",
      "       'actual_price', 'discount_percentage', 'rating', 'rating_count',\n",
      "       'about_product', 'user_id', 'user_name', 'review_id', 'review_title',\n",
      "       'review_content', 'img_link', 'product_link'],\n",
      "      dtype='object')\n"
     ]
    }
   ],
   "source": [
    "print(sales.columns)"
   ]
  },
  {
   "cell_type": "code",
   "execution_count": 5,
   "id": "f006a03e-71ae-4b7d-95d0-99027c53a783",
   "metadata": {},
   "outputs": [
    {
     "name": "stdout",
     "output_type": "stream",
     "text": [
      "<class 'pandas.core.frame.DataFrame'>\n",
      "RangeIndex: 1465 entries, 0 to 1464\n",
      "Data columns (total 16 columns):\n",
      " #   Column               Non-Null Count  Dtype \n",
      "---  ------               --------------  ----- \n",
      " 0   product_id           1465 non-null   object\n",
      " 1   product_name         1465 non-null   object\n",
      " 2   category             1465 non-null   object\n",
      " 3   discounted_price     1465 non-null   object\n",
      " 4   actual_price         1465 non-null   object\n",
      " 5   discount_percentage  1465 non-null   object\n",
      " 6   rating               1465 non-null   object\n",
      " 7   rating_count         1463 non-null   object\n",
      " 8   about_product        1465 non-null   object\n",
      " 9   user_id              1465 non-null   object\n",
      " 10  user_name            1465 non-null   object\n",
      " 11  review_id            1465 non-null   object\n",
      " 12  review_title         1465 non-null   object\n",
      " 13  review_content       1465 non-null   object\n",
      " 14  img_link             1465 non-null   object\n",
      " 15  product_link         1465 non-null   object\n",
      "dtypes: object(16)\n",
      "memory usage: 183.2+ KB\n"
     ]
    }
   ],
   "source": [
    "sales.info()"
   ]
  },
  {
   "cell_type": "code",
   "execution_count": 6,
   "id": "d0ac2a06-f0a8-4e20-85fd-78c53c66e143",
   "metadata": {},
   "outputs": [],
   "source": [
    "df = ['about_product', 'user_id', 'user_name', 'review_id', 'review_title','review_content', 'img_link', 'product_link']"
   ]
  },
  {
   "cell_type": "code",
   "execution_count": 7,
   "id": "8565e177-16bf-4030-b21c-f2bd58eaa005",
   "metadata": {},
   "outputs": [],
   "source": [
    "#droping unnessary calumns \n",
    "sales= sales.drop(df,axis=1) "
   ]
  },
  {
   "cell_type": "code",
   "execution_count": 8,
   "id": "475a263c-1450-4894-9f64-fdcbd445d029",
   "metadata": {},
   "outputs": [
    {
     "name": "stdout",
     "output_type": "stream",
     "text": [
      "<class 'pandas.core.frame.DataFrame'>\n",
      "RangeIndex: 1465 entries, 0 to 1464\n",
      "Data columns (total 8 columns):\n",
      " #   Column               Non-Null Count  Dtype \n",
      "---  ------               --------------  ----- \n",
      " 0   product_id           1465 non-null   object\n",
      " 1   product_name         1465 non-null   object\n",
      " 2   category             1465 non-null   object\n",
      " 3   discounted_price     1465 non-null   object\n",
      " 4   actual_price         1465 non-null   object\n",
      " 5   discount_percentage  1465 non-null   object\n",
      " 6   rating               1465 non-null   object\n",
      " 7   rating_count         1463 non-null   object\n",
      "dtypes: object(8)\n",
      "memory usage: 91.7+ KB\n"
     ]
    }
   ],
   "source": [
    "sales.info()"
   ]
  },
  {
   "cell_type": "code",
   "execution_count": 9,
   "id": "bbe05e91-b234-42c1-b75e-9718eeaf3521",
   "metadata": {},
   "outputs": [
    {
     "data": {
      "text/plain": [
       "product_id             0\n",
       "product_name           0\n",
       "category               0\n",
       "discounted_price       0\n",
       "actual_price           0\n",
       "discount_percentage    0\n",
       "rating                 0\n",
       "rating_count           2\n",
       "dtype: int64"
      ]
     },
     "execution_count": 9,
     "metadata": {},
     "output_type": "execute_result"
    }
   ],
   "source": [
    "sales.isna().sum()"
   ]
  },
  {
   "cell_type": "code",
   "execution_count": 10,
   "id": "bb6c9290-f826-4664-a2a6-c6d6677479e5",
   "metadata": {},
   "outputs": [],
   "source": [
    "sales= sales.dropna(subset=['rating_count'])"
   ]
  },
  {
   "cell_type": "code",
   "execution_count": 11,
   "id": "d694277f",
   "metadata": {
    "papermill": {
     "duration": 0.033033,
     "end_time": "2023-08-11T10:12:15.332332",
     "exception": false,
     "start_time": "2023-08-11T10:12:15.299299",
     "status": "completed"
    },
    "tags": []
   },
   "outputs": [],
   "source": [
    "# Split `category` column\n",
    "cat_split = sales['category'].str.split('|', expand=True)\n"
   ]
  },
  {
   "cell_type": "code",
   "execution_count": 12,
   "id": "f0f14cb1",
   "metadata": {
    "papermill": {
     "duration": 0.023788,
     "end_time": "2023-08-11T10:12:15.370506",
     "exception": false,
     "start_time": "2023-08-11T10:12:15.346718",
     "status": "completed"
    },
    "tags": []
   },
   "outputs": [],
   "source": [
    "# Rename column\n",
    "cat_split = cat_split.rename(columns={0:'Main category', 1:'Sub category'})\n"
   ]
  },
  {
   "cell_type": "code",
   "execution_count": 13,
   "id": "f366f0fc",
   "metadata": {
    "papermill": {
     "duration": 0.0428,
     "end_time": "2023-08-11T10:12:15.427740",
     "exception": false,
     "start_time": "2023-08-11T10:12:15.384940",
     "status": "completed"
    },
    "tags": []
   },
   "outputs": [
    {
     "data": {
      "text/html": [
       "<div>\n",
       "<style scoped>\n",
       "    .dataframe tbody tr th:only-of-type {\n",
       "        vertical-align: middle;\n",
       "    }\n",
       "\n",
       "    .dataframe tbody tr th {\n",
       "        vertical-align: top;\n",
       "    }\n",
       "\n",
       "    .dataframe thead th {\n",
       "        text-align: right;\n",
       "    }\n",
       "</style>\n",
       "<table border=\"1\" class=\"dataframe\">\n",
       "  <thead>\n",
       "    <tr style=\"text-align: right;\">\n",
       "      <th></th>\n",
       "      <th>product_id</th>\n",
       "      <th>product_name</th>\n",
       "      <th>discounted_price</th>\n",
       "      <th>actual_price</th>\n",
       "      <th>discount_percentage</th>\n",
       "      <th>rating</th>\n",
       "      <th>rating_count</th>\n",
       "      <th>Main category</th>\n",
       "      <th>Sub category</th>\n",
       "    </tr>\n",
       "  </thead>\n",
       "  <tbody>\n",
       "    <tr>\n",
       "      <th>0</th>\n",
       "      <td>B07JW9H4J1</td>\n",
       "      <td>Wayona Nylon Braided USB to Lightning Fast Cha...</td>\n",
       "      <td>₹399</td>\n",
       "      <td>₹1,099</td>\n",
       "      <td>64%</td>\n",
       "      <td>4.2</td>\n",
       "      <td>24,269</td>\n",
       "      <td>Computers&amp;Accessories</td>\n",
       "      <td>Accessories&amp;Peripherals</td>\n",
       "    </tr>\n",
       "    <tr>\n",
       "      <th>1</th>\n",
       "      <td>B098NS6PVG</td>\n",
       "      <td>Ambrane Unbreakable 60W / 3A Fast Charging 1.5...</td>\n",
       "      <td>₹199</td>\n",
       "      <td>₹349</td>\n",
       "      <td>43%</td>\n",
       "      <td>4.0</td>\n",
       "      <td>43,994</td>\n",
       "      <td>Computers&amp;Accessories</td>\n",
       "      <td>Accessories&amp;Peripherals</td>\n",
       "    </tr>\n",
       "    <tr>\n",
       "      <th>2</th>\n",
       "      <td>B096MSW6CT</td>\n",
       "      <td>Sounce Fast Phone Charging Cable &amp; Data Sync U...</td>\n",
       "      <td>₹199</td>\n",
       "      <td>₹1,899</td>\n",
       "      <td>90%</td>\n",
       "      <td>3.9</td>\n",
       "      <td>7,928</td>\n",
       "      <td>Computers&amp;Accessories</td>\n",
       "      <td>Accessories&amp;Peripherals</td>\n",
       "    </tr>\n",
       "    <tr>\n",
       "      <th>3</th>\n",
       "      <td>B08HDJ86NZ</td>\n",
       "      <td>boAt Deuce USB 300 2 in 1 Type-C &amp; Micro USB S...</td>\n",
       "      <td>₹329</td>\n",
       "      <td>₹699</td>\n",
       "      <td>53%</td>\n",
       "      <td>4.2</td>\n",
       "      <td>94,363</td>\n",
       "      <td>Computers&amp;Accessories</td>\n",
       "      <td>Accessories&amp;Peripherals</td>\n",
       "    </tr>\n",
       "    <tr>\n",
       "      <th>4</th>\n",
       "      <td>B08CF3B7N1</td>\n",
       "      <td>Portronics Konnect L 1.2M Fast Charging 3A 8 P...</td>\n",
       "      <td>₹154</td>\n",
       "      <td>₹399</td>\n",
       "      <td>61%</td>\n",
       "      <td>4.2</td>\n",
       "      <td>16,905</td>\n",
       "      <td>Computers&amp;Accessories</td>\n",
       "      <td>Accessories&amp;Peripherals</td>\n",
       "    </tr>\n",
       "    <tr>\n",
       "      <th>...</th>\n",
       "      <td>...</td>\n",
       "      <td>...</td>\n",
       "      <td>...</td>\n",
       "      <td>...</td>\n",
       "      <td>...</td>\n",
       "      <td>...</td>\n",
       "      <td>...</td>\n",
       "      <td>...</td>\n",
       "      <td>...</td>\n",
       "    </tr>\n",
       "    <tr>\n",
       "      <th>1460</th>\n",
       "      <td>B08L7J3T31</td>\n",
       "      <td>Noir Aqua - 5pcs PP Spun Filter + 1 Spanner | ...</td>\n",
       "      <td>₹379</td>\n",
       "      <td>₹919</td>\n",
       "      <td>59%</td>\n",
       "      <td>4</td>\n",
       "      <td>1,090</td>\n",
       "      <td>Home&amp;Kitchen</td>\n",
       "      <td>Kitchen&amp;HomeAppliances</td>\n",
       "    </tr>\n",
       "    <tr>\n",
       "      <th>1461</th>\n",
       "      <td>B01M6453MB</td>\n",
       "      <td>Prestige Delight PRWO Electric Rice Cooker (1 ...</td>\n",
       "      <td>₹2,280</td>\n",
       "      <td>₹3,045</td>\n",
       "      <td>25%</td>\n",
       "      <td>4.1</td>\n",
       "      <td>4,118</td>\n",
       "      <td>Home&amp;Kitchen</td>\n",
       "      <td>Kitchen&amp;HomeAppliances</td>\n",
       "    </tr>\n",
       "    <tr>\n",
       "      <th>1462</th>\n",
       "      <td>B009P2LIL4</td>\n",
       "      <td>Bajaj Majesty RX10 2000 Watts Heat Convector R...</td>\n",
       "      <td>₹2,219</td>\n",
       "      <td>₹3,080</td>\n",
       "      <td>28%</td>\n",
       "      <td>3.6</td>\n",
       "      <td>468</td>\n",
       "      <td>Home&amp;Kitchen</td>\n",
       "      <td>Heating,Cooling&amp;AirQuality</td>\n",
       "    </tr>\n",
       "    <tr>\n",
       "      <th>1463</th>\n",
       "      <td>B00J5DYCCA</td>\n",
       "      <td>Havells Ventil Air DSP 230mm Exhaust Fan (Pist...</td>\n",
       "      <td>₹1,399</td>\n",
       "      <td>₹1,890</td>\n",
       "      <td>26%</td>\n",
       "      <td>4</td>\n",
       "      <td>8,031</td>\n",
       "      <td>Home&amp;Kitchen</td>\n",
       "      <td>Heating,Cooling&amp;AirQuality</td>\n",
       "    </tr>\n",
       "    <tr>\n",
       "      <th>1464</th>\n",
       "      <td>B01486F4G6</td>\n",
       "      <td>Borosil Jumbo 1000-Watt Grill Sandwich Maker (...</td>\n",
       "      <td>₹2,863</td>\n",
       "      <td>₹3,690</td>\n",
       "      <td>22%</td>\n",
       "      <td>4.3</td>\n",
       "      <td>6,987</td>\n",
       "      <td>Home&amp;Kitchen</td>\n",
       "      <td>Kitchen&amp;HomeAppliances</td>\n",
       "    </tr>\n",
       "  </tbody>\n",
       "</table>\n",
       "<p>1463 rows × 9 columns</p>\n",
       "</div>"
      ],
      "text/plain": [
       "      product_id                                       product_name  \\\n",
       "0     B07JW9H4J1  Wayona Nylon Braided USB to Lightning Fast Cha...   \n",
       "1     B098NS6PVG  Ambrane Unbreakable 60W / 3A Fast Charging 1.5...   \n",
       "2     B096MSW6CT  Sounce Fast Phone Charging Cable & Data Sync U...   \n",
       "3     B08HDJ86NZ  boAt Deuce USB 300 2 in 1 Type-C & Micro USB S...   \n",
       "4     B08CF3B7N1  Portronics Konnect L 1.2M Fast Charging 3A 8 P...   \n",
       "...          ...                                                ...   \n",
       "1460  B08L7J3T31  Noir Aqua - 5pcs PP Spun Filter + 1 Spanner | ...   \n",
       "1461  B01M6453MB  Prestige Delight PRWO Electric Rice Cooker (1 ...   \n",
       "1462  B009P2LIL4  Bajaj Majesty RX10 2000 Watts Heat Convector R...   \n",
       "1463  B00J5DYCCA  Havells Ventil Air DSP 230mm Exhaust Fan (Pist...   \n",
       "1464  B01486F4G6  Borosil Jumbo 1000-Watt Grill Sandwich Maker (...   \n",
       "\n",
       "     discounted_price actual_price discount_percentage rating rating_count  \\\n",
       "0                ₹399       ₹1,099                 64%    4.2       24,269   \n",
       "1                ₹199         ₹349                 43%    4.0       43,994   \n",
       "2                ₹199       ₹1,899                 90%    3.9        7,928   \n",
       "3                ₹329         ₹699                 53%    4.2       94,363   \n",
       "4                ₹154         ₹399                 61%    4.2       16,905   \n",
       "...               ...          ...                 ...    ...          ...   \n",
       "1460             ₹379         ₹919                 59%      4        1,090   \n",
       "1461           ₹2,280       ₹3,045                 25%    4.1        4,118   \n",
       "1462           ₹2,219       ₹3,080                 28%    3.6          468   \n",
       "1463           ₹1,399       ₹1,890                 26%      4        8,031   \n",
       "1464           ₹2,863       ₹3,690                 22%    4.3        6,987   \n",
       "\n",
       "              Main category                Sub category  \n",
       "0     Computers&Accessories     Accessories&Peripherals  \n",
       "1     Computers&Accessories     Accessories&Peripherals  \n",
       "2     Computers&Accessories     Accessories&Peripherals  \n",
       "3     Computers&Accessories     Accessories&Peripherals  \n",
       "4     Computers&Accessories     Accessories&Peripherals  \n",
       "...                     ...                         ...  \n",
       "1460           Home&Kitchen      Kitchen&HomeAppliances  \n",
       "1461           Home&Kitchen      Kitchen&HomeAppliances  \n",
       "1462           Home&Kitchen  Heating,Cooling&AirQuality  \n",
       "1463           Home&Kitchen  Heating,Cooling&AirQuality  \n",
       "1464           Home&Kitchen      Kitchen&HomeAppliances  \n",
       "\n",
       "[1463 rows x 9 columns]"
      ]
     },
     "execution_count": 13,
     "metadata": {},
     "output_type": "execute_result"
    }
   ],
   "source": [
    "# Add new cols to data frame and drop the old ones\n",
    "sales['Main category'] = cat_split['Main category']\n",
    "sales['Sub category'] = cat_split['Sub category']\n",
    "sales.drop(columns ='category', inplace=True)\n",
    "sales"
   ]
  },
  {
   "cell_type": "code",
   "execution_count": 14,
   "id": "69d29380-5f68-4d95-8012-439aebfa31b5",
   "metadata": {},
   "outputs": [
    {
     "data": {
      "text/plain": [
       "Electronics              526\n",
       "Computers&Accessories    451\n",
       "Home&Kitchen             448\n",
       "OfficeProducts            31\n",
       "MusicalInstruments         2\n",
       "HomeImprovement            2\n",
       "Toys&Games                 1\n",
       "Car&Motorbike              1\n",
       "Health&PersonalCare        1\n",
       "Name: Main category, dtype: int64"
      ]
     },
     "execution_count": 14,
     "metadata": {},
     "output_type": "execute_result"
    }
   ],
   "source": [
    "sales['Main category'].value_counts()"
   ]
  },
  {
   "cell_type": "code",
   "execution_count": 15,
   "id": "2b24a4d1-51fb-4e15-a724-82ca65a2221d",
   "metadata": {},
   "outputs": [
    {
     "data": {
      "text/plain": [
       "Accessories&Peripherals                    379\n",
       "Kitchen&HomeAppliances                     308\n",
       "HomeTheater,TV&Video                       162\n",
       "Mobiles&Accessories                        161\n",
       "Heating,Cooling&AirQuality                 116\n",
       "WearableTechnology                          76\n",
       "Headphones,Earbuds&Accessories              66\n",
       "NetworkingDevices                           34\n",
       "OfficePaperProducts                         27\n",
       "ExternalDevices&DataStorage                 18\n",
       "Cameras&Photography                         16\n",
       "HomeStorage&Organization                    16\n",
       "HomeAudio                                   16\n",
       "GeneralPurposeBatteries&BatteryChargers     14\n",
       "Accessories                                 14\n",
       "Printers,Inks&Accessories                   11\n",
       "CraftMaterials                               7\n",
       "Components                                   5\n",
       "OfficeElectronics                            4\n",
       "Electrical                                   2\n",
       "Monitors                                     2\n",
       "Microphones                                  2\n",
       "Arts&Crafts                                  1\n",
       "PowerAccessories                             1\n",
       "Tablets                                      1\n",
       "Laptops                                      1\n",
       "Kitchen&Dining                               1\n",
       "CarAccessories                               1\n",
       "HomeMedicalSupplies&Equipment                1\n",
       "Name: Sub category, dtype: int64"
      ]
     },
     "execution_count": 15,
     "metadata": {},
     "output_type": "execute_result"
    }
   ],
   "source": [
    "sales['Sub category'].value_counts()\n"
   ]
  },
  {
   "cell_type": "code",
   "execution_count": 16,
   "id": "dd95ae90-df06-470b-bc1c-7a7f56f0a538",
   "metadata": {},
   "outputs": [
    {
     "data": {
      "text/plain": [
       "product_id             object\n",
       "product_name           object\n",
       "discounted_price       object\n",
       "actual_price           object\n",
       "discount_percentage    object\n",
       "rating                 object\n",
       "rating_count           object\n",
       "Main category          object\n",
       "Sub category           object\n",
       "dtype: object"
      ]
     },
     "execution_count": 16,
     "metadata": {},
     "output_type": "execute_result"
    }
   ],
   "source": [
    "sales.dtypes"
   ]
  },
  {
   "cell_type": "code",
   "execution_count": 17,
   "id": "9c864f43-e19e-4e1f-91d9-c833eda24f55",
   "metadata": {
    "papermill": {
     "duration": 0.031719,
     "end_time": "2023-08-11T10:12:14.967496",
     "exception": false,
     "start_time": "2023-08-11T10:12:14.935777",
     "status": "completed"
    },
    "tags": []
   },
   "outputs": [],
   "source": [
    "# Replace string value and change data type\n",
    "sales['actual_price'] = sales['actual_price'].str.replace('₹','')\n",
    "sales['actual_price'] = sales['actual_price'].str.replace(',','').astype('float')\n",
    "\n",
    "sales['discounted_price'] = sales['discounted_price'].str.replace('₹','')\n",
    "sales['discounted_price'] = sales['discounted_price'].str.replace(',','').astype('float')"
   ]
  },
  {
   "cell_type": "code",
   "execution_count": 18,
   "id": "96b39892-f0ad-49f9-9318-2a8a2e2e42bb",
   "metadata": {
    "papermill": {
     "duration": 0.024922,
     "end_time": "2023-08-11T10:12:15.006489",
     "exception": false,
     "start_time": "2023-08-11T10:12:14.981567",
     "status": "completed"
    },
    "tags": []
   },
   "outputs": [],
   "source": [
    "sales['discount_percentage'] =sales['discount_percentage'].str.replace('%','').astype('float')\n",
    "sales['discount_percentage'] = sales['discount_percentage']/100"
   ]
  },
  {
   "cell_type": "code",
   "execution_count": 19,
   "id": "7ee28005",
   "metadata": {
    "papermill": {
     "duration": 0.026282,
     "end_time": "2023-08-11T10:12:15.046343",
     "exception": false,
     "start_time": "2023-08-11T10:12:15.020061",
     "status": "completed"
    },
    "tags": []
   },
   "outputs": [],
   "source": [
    "sales['rating_count'] = sales['rating_count'].str.replace(',','').astype('float')"
   ]
  },
  {
   "cell_type": "code",
   "execution_count": 20,
   "id": "b5fbb4d2-e42d-4679-af8c-d60feeecdb0d",
   "metadata": {
    "papermill": {
     "duration": 0.02499,
     "end_time": "2023-08-11T10:12:15.210443",
     "exception": false,
     "start_time": "2023-08-11T10:12:15.185453",
     "status": "completed"
    },
    "tags": []
   },
   "outputs": [
    {
     "name": "stderr",
     "output_type": "stream",
     "text": [
      "/tmp/ipykernel_213/2198134578.py:1: FutureWarning: The default value of regex will change from True to False in a future version. In addition, single character regular expressions will *not* be treated as literal strings when regex=True.\n",
      "  sales['rating'] = sales['rating'].str.replace('|','4.0').astype('float')\n"
     ]
    }
   ],
   "source": [
    "sales['rating'] = sales['rating'].str.replace('|','4.0').astype('float')"
   ]
  },
  {
   "cell_type": "code",
   "execution_count": 21,
   "id": "00f0b2bf-c0d2-4723-929b-595f8c4144e3",
   "metadata": {},
   "outputs": [],
   "source": [
    "sales['rating'] = sales['rating'].astype(float)"
   ]
  },
  {
   "cell_type": "code",
   "execution_count": 22,
   "id": "919bef53-b2ff-4bbc-8674-ffa4f5ec458e",
   "metadata": {},
   "outputs": [
    {
     "data": {
      "text/plain": [
       "product_id              object\n",
       "product_name            object\n",
       "discounted_price       float64\n",
       "actual_price           float64\n",
       "discount_percentage    float64\n",
       "rating                 float64\n",
       "rating_count           float64\n",
       "Main category           object\n",
       "Sub category            object\n",
       "dtype: object"
      ]
     },
     "execution_count": 22,
     "metadata": {},
     "output_type": "execute_result"
    }
   ],
   "source": [
    "sales.dtypes"
   ]
  },
  {
   "cell_type": "code",
   "execution_count": 23,
   "id": "8f1db135-ae92-42e6-9e45-ff9fb7c10ddc",
   "metadata": {},
   "outputs": [
    {
     "data": {
      "text/plain": [
       "<Axes: xlabel='Main category', ylabel='count'>"
      ]
     },
     "execution_count": 23,
     "metadata": {},
     "output_type": "execute_result"
    },
    {
     "data": {
      "image/png": "[encoded data removed]",
      "text/plain": [
       "<Figure size 1440x720 with 1 Axes>"
      ]
     },
     "metadata": {
      "needs_background": "light"
     },
     "output_type": "display_data"
    }
   ],
   "source": [
    "plt.figure(figsize=(20,10))\n",
    "sns.countplot(x='Main category', data= sales)"
   ]
  },
  {
   "cell_type": "code",
   "execution_count": 24,
   "id": "712558f0-047a-49f8-a2db-b44607783541",
   "metadata": {},
   "outputs": [
    {
     "data": {
      "text/html": [
       "<div>\n",
       "<style scoped>\n",
       "    .dataframe tbody tr th:only-of-type {\n",
       "        vertical-align: middle;\n",
       "    }\n",
       "\n",
       "    .dataframe tbody tr th {\n",
       "        vertical-align: top;\n",
       "    }\n",
       "\n",
       "    .dataframe thead th {\n",
       "        text-align: right;\n",
       "    }\n",
       "</style>\n",
       "<table border=\"1\" class=\"dataframe\">\n",
       "  <thead>\n",
       "    <tr style=\"text-align: right;\">\n",
       "      <th></th>\n",
       "      <th>product_id</th>\n",
       "      <th>product_name</th>\n",
       "      <th>discounted_price</th>\n",
       "      <th>actual_price</th>\n",
       "      <th>discount_percentage</th>\n",
       "      <th>rating</th>\n",
       "      <th>rating_count</th>\n",
       "      <th>Main category</th>\n",
       "      <th>Sub category</th>\n",
       "    </tr>\n",
       "  </thead>\n",
       "  <tbody>\n",
       "    <tr>\n",
       "      <th>0</th>\n",
       "      <td>B07JW9H4J1</td>\n",
       "      <td>Wayona Nylon Braided USB to Lightning Fast Cha...</td>\n",
       "      <td>399.0</td>\n",
       "      <td>1099.0</td>\n",
       "      <td>0.64</td>\n",
       "      <td>4.2</td>\n",
       "      <td>24269.0</td>\n",
       "      <td>Computers&amp;Accessories</td>\n",
       "      <td>Accessories&amp;Peripherals</td>\n",
       "    </tr>\n",
       "    <tr>\n",
       "      <th>1</th>\n",
       "      <td>B098NS6PVG</td>\n",
       "      <td>Ambrane Unbreakable 60W / 3A Fast Charging 1.5...</td>\n",
       "      <td>199.0</td>\n",
       "      <td>349.0</td>\n",
       "      <td>0.43</td>\n",
       "      <td>4.0</td>\n",
       "      <td>43994.0</td>\n",
       "      <td>Computers&amp;Accessories</td>\n",
       "      <td>Accessories&amp;Peripherals</td>\n",
       "    </tr>\n",
       "    <tr>\n",
       "      <th>2</th>\n",
       "      <td>B096MSW6CT</td>\n",
       "      <td>Sounce Fast Phone Charging Cable &amp; Data Sync U...</td>\n",
       "      <td>199.0</td>\n",
       "      <td>1899.0</td>\n",
       "      <td>0.90</td>\n",
       "      <td>3.9</td>\n",
       "      <td>7928.0</td>\n",
       "      <td>Computers&amp;Accessories</td>\n",
       "      <td>Accessories&amp;Peripherals</td>\n",
       "    </tr>\n",
       "    <tr>\n",
       "      <th>3</th>\n",
       "      <td>B08HDJ86NZ</td>\n",
       "      <td>boAt Deuce USB 300 2 in 1 Type-C &amp; Micro USB S...</td>\n",
       "      <td>329.0</td>\n",
       "      <td>699.0</td>\n",
       "      <td>0.53</td>\n",
       "      <td>4.2</td>\n",
       "      <td>94363.0</td>\n",
       "      <td>Computers&amp;Accessories</td>\n",
       "      <td>Accessories&amp;Peripherals</td>\n",
       "    </tr>\n",
       "    <tr>\n",
       "      <th>4</th>\n",
       "      <td>B08CF3B7N1</td>\n",
       "      <td>Portronics Konnect L 1.2M Fast Charging 3A 8 P...</td>\n",
       "      <td>154.0</td>\n",
       "      <td>399.0</td>\n",
       "      <td>0.61</td>\n",
       "      <td>4.2</td>\n",
       "      <td>16905.0</td>\n",
       "      <td>Computers&amp;Accessories</td>\n",
       "      <td>Accessories&amp;Peripherals</td>\n",
       "    </tr>\n",
       "    <tr>\n",
       "      <th>...</th>\n",
       "      <td>...</td>\n",
       "      <td>...</td>\n",
       "      <td>...</td>\n",
       "      <td>...</td>\n",
       "      <td>...</td>\n",
       "      <td>...</td>\n",
       "      <td>...</td>\n",
       "      <td>...</td>\n",
       "      <td>...</td>\n",
       "    </tr>\n",
       "    <tr>\n",
       "      <th>1460</th>\n",
       "      <td>B08L7J3T31</td>\n",
       "      <td>Noir Aqua - 5pcs PP Spun Filter + 1 Spanner | ...</td>\n",
       "      <td>379.0</td>\n",
       "      <td>919.0</td>\n",
       "      <td>0.59</td>\n",
       "      <td>4.0</td>\n",
       "      <td>1090.0</td>\n",
       "      <td>Home&amp;Kitchen</td>\n",
       "      <td>Kitchen&amp;HomeAppliances</td>\n",
       "    </tr>\n",
       "    <tr>\n",
       "      <th>1461</th>\n",
       "      <td>B01M6453MB</td>\n",
       "      <td>Prestige Delight PRWO Electric Rice Cooker (1 ...</td>\n",
       "      <td>2280.0</td>\n",
       "      <td>3045.0</td>\n",
       "      <td>0.25</td>\n",
       "      <td>4.1</td>\n",
       "      <td>4118.0</td>\n",
       "      <td>Home&amp;Kitchen</td>\n",
       "      <td>Kitchen&amp;HomeAppliances</td>\n",
       "    </tr>\n",
       "    <tr>\n",
       "      <th>1462</th>\n",
       "      <td>B009P2LIL4</td>\n",
       "      <td>Bajaj Majesty RX10 2000 Watts Heat Convector R...</td>\n",
       "      <td>2219.0</td>\n",
       "      <td>3080.0</td>\n",
       "      <td>0.28</td>\n",
       "      <td>3.6</td>\n",
       "      <td>468.0</td>\n",
       "      <td>Home&amp;Kitchen</td>\n",
       "      <td>Heating,Cooling&amp;AirQuality</td>\n",
       "    </tr>\n",
       "    <tr>\n",
       "      <th>1463</th>\n",
       "      <td>B00J5DYCCA</td>\n",
       "      <td>Havells Ventil Air DSP 230mm Exhaust Fan (Pist...</td>\n",
       "      <td>1399.0</td>\n",
       "      <td>1890.0</td>\n",
       "      <td>0.26</td>\n",
       "      <td>4.0</td>\n",
       "      <td>8031.0</td>\n",
       "      <td>Home&amp;Kitchen</td>\n",
       "      <td>Heating,Cooling&amp;AirQuality</td>\n",
       "    </tr>\n",
       "    <tr>\n",
       "      <th>1464</th>\n",
       "      <td>B01486F4G6</td>\n",
       "      <td>Borosil Jumbo 1000-Watt Grill Sandwich Maker (...</td>\n",
       "      <td>2863.0</td>\n",
       "      <td>3690.0</td>\n",
       "      <td>0.22</td>\n",
       "      <td>4.3</td>\n",
       "      <td>6987.0</td>\n",
       "      <td>Home&amp;Kitchen</td>\n",
       "      <td>Kitchen&amp;HomeAppliances</td>\n",
       "    </tr>\n",
       "  </tbody>\n",
       "</table>\n",
       "<p>1463 rows × 9 columns</p>\n",
       "</div>"
      ],
      "text/plain": [
       "      product_id                                       product_name  \\\n",
       "0     B07JW9H4J1  Wayona Nylon Braided USB to Lightning Fast Cha...   \n",
       "1     B098NS6PVG  Ambrane Unbreakable 60W / 3A Fast Charging 1.5...   \n",
       "2     B096MSW6CT  Sounce Fast Phone Charging Cable & Data Sync U...   \n",
       "3     B08HDJ86NZ  boAt Deuce USB 300 2 in 1 Type-C & Micro USB S...   \n",
       "4     B08CF3B7N1  Portronics Konnect L 1.2M Fast Charging 3A 8 P...   \n",
       "...          ...                                                ...   \n",
       "1460  B08L7J3T31  Noir Aqua - 5pcs PP Spun Filter + 1 Spanner | ...   \n",
       "1461  B01M6453MB  Prestige Delight PRWO Electric Rice Cooker (1 ...   \n",
       "1462  B009P2LIL4  Bajaj Majesty RX10 2000 Watts Heat Convector R...   \n",
       "1463  B00J5DYCCA  Havells Ventil Air DSP 230mm Exhaust Fan (Pist...   \n",
       "1464  B01486F4G6  Borosil Jumbo 1000-Watt Grill Sandwich Maker (...   \n",
       "\n",
       "      discounted_price  actual_price  discount_percentage  rating  \\\n",
       "0                399.0        1099.0                 0.64     4.2   \n",
       "1                199.0         349.0                 0.43     4.0   \n",
       "2                199.0        1899.0                 0.90     3.9   \n",
       "3                329.0         699.0                 0.53     4.2   \n",
       "4                154.0         399.0                 0.61     4.2   \n",
       "...                ...           ...                  ...     ...   \n",
       "1460             379.0         919.0                 0.59     4.0   \n",
       "1461            2280.0        3045.0                 0.25     4.1   \n",
       "1462            2219.0        3080.0                 0.28     3.6   \n",
       "1463            1399.0        1890.0                 0.26     4.0   \n",
       "1464            2863.0        3690.0                 0.22     4.3   \n",
       "\n",
       "      rating_count          Main category                Sub category  \n",
       "0          24269.0  Computers&Accessories     Accessories&Peripherals  \n",
       "1          43994.0  Computers&Accessories     Accessories&Peripherals  \n",
       "2           7928.0  Computers&Accessories     Accessories&Peripherals  \n",
       "3          94363.0  Computers&Accessories     Accessories&Peripherals  \n",
       "4          16905.0  Computers&Accessories     Accessories&Peripherals  \n",
       "...            ...                    ...                         ...  \n",
       "1460        1090.0           Home&Kitchen      Kitchen&HomeAppliances  \n",
       "1461        4118.0           Home&Kitchen      Kitchen&HomeAppliances  \n",
       "1462         468.0           Home&Kitchen  Heating,Cooling&AirQuality  \n",
       "1463        8031.0           Home&Kitchen  Heating,Cooling&AirQuality  \n",
       "1464        6987.0           Home&Kitchen      Kitchen&HomeAppliances  \n",
       "\n",
       "[1463 rows x 9 columns]"
      ]
     },
     "execution_count": 24,
     "metadata": {},
     "output_type": "execute_result"
    }
   ],
   "source": [
    "sales"
   ]
  },
  {
   "cell_type": "code",
   "execution_count": 25,
   "id": "ea14bfe6-9c67-4a10-9810-022cefffac2a",
   "metadata": {
    "papermill": {
     "duration": 0.663719,
     "end_time": "2023-08-11T10:12:16.521673",
     "exception": false,
     "start_time": "2023-08-11T10:12:15.857954",
     "status": "completed"
    },
    "tags": []
   },
   "outputs": [
    {
     "data": {
      "image/png": "[encoded data removed]",
      "text/plain": [
       "<Figure size 576x720 with 2 Axes>"
      ]
     },
     "metadata": {
      "needs_background": "light"
     },
     "output_type": "display_data"
    }
   ],
   "source": [
    "# Most products by Main & Sub category\n",
    "main_cat_pro =sales['Main category'].value_counts().head(5).rename_axis('Main category').reset_index(name = 'count')\n",
    "sub_cat_pro = sales['Sub category'].value_counts().head(10).rename_axis('Sub category').reset_index(name = 'count')\n",
    "\n",
    "fig, ax = plt.subplots(2,1, figsize = (8,10))\n",
    "\n",
    "sns.barplot(ax=ax[0], data = main_cat_pro, x='count', y='Main category', )\n",
    "sns.barplot(ax=ax[1], data = sub_cat_pro, x='count', y='Sub category')\n",
    "\n",
    "plt.subplots_adjust(hspace = 0.3)\n",
    "\n",
    "ax[0].set_xlabel('Number of Products', fontweight='bold')\n",
    "ax[0].set_ylabel('Product Main Category', fontweight='bold')\n",
    "\n",
    "ax[1].set_xlabel('Number of Products', fontweight='bold')\n",
    "ax[1].set_ylabel('Product Sub Category', fontweight='bold')\n",
    "\n",
    "ax[0].set_title('Most Products by Main Category', fontweight='bold')\n",
    "ax[1].set_title('Most Products by Sub Category', fontweight='bold')\n",
    "\n",
    "\n",
    "ax[0].bar_label(ax[0].containers[0])\n",
    "ax[1].bar_label(ax[1].containers[0])\n",
    "\n",
    "\n",
    "plt.show()"
   ]
  },
  {
   "cell_type": "markdown",
   "id": "383137ea-43e3-4507-bd26-324d8bfb2012",
   "metadata": {},
   "source": [
    "## Price Prediction"
   ]
  },
  {
   "cell_type": "code",
   "execution_count": 26,
   "id": "fac10112-518b-4931-901a-550efadb943b",
   "metadata": {},
   "outputs": [],
   "source": [
    "X = sales[['actual_price','rating','rating_count']]\n",
    "y=  sales['discounted_price']"
   ]
  },
  {
   "cell_type": "code",
   "execution_count": 27,
   "id": "686ea728-adc7-401e-a080-341777c8f6ff",
   "metadata": {},
   "outputs": [
    {
     "data": {
      "text/plain": [
       "Index(['product_id', 'product_name', 'discounted_price', 'actual_price',\n",
       "       'discount_percentage', 'rating', 'rating_count', 'Main category',\n",
       "       'Sub category'],\n",
       "      dtype='object')"
      ]
     },
     "execution_count": 27,
     "metadata": {},
     "output_type": "execute_result"
    }
   ],
   "source": [
    "sales.columns"
   ]
  },
  {
   "cell_type": "code",
   "execution_count": 28,
   "id": "b8c4e697-3a48-4395-89f8-61d3947b5615",
   "metadata": {},
   "outputs": [],
   "source": [
    "#spliting data\n",
    "from sklearn.model_selection import train_test_split\n",
    "X_train,X_test,y_train,y_test = train_test_split(X,y,test_size=0.20, random_state=369) "
   ]
  },
  {
   "cell_type": "code",
   "execution_count": 29,
   "id": "9ed0a26d-d654-4cfe-83d2-99b7bbc50b7f",
   "metadata": {},
   "outputs": [],
   "source": [
    "# using linear regression as model\n",
    "from sklearn.linear_model import LinearRegression"
   ]
  },
  {
   "cell_type": "code",
   "execution_count": 30,
   "id": "609ef571-68f9-43ca-afad-0383b3ca0523",
   "metadata": {},
   "outputs": [],
   "source": [
    "sales_lm = LinearRegression()"
   ]
  },
  {
   "cell_type": "code",
   "execution_count": 31,
   "id": "056b83d1-61ac-4cdb-beb8-b7498574e2da",
   "metadata": {},
   "outputs": [
    {
     "data": {
      "text/html": [
       "<style>#sk-container-id-1 {color: black;}#sk-container-id-1 pre{padding: 0;}#sk-container-id-1 div.sk-toggleable {background-color: white;}#sk-container-id-1 label.sk-toggleable__label {cursor: pointer;display: block;width: 100%;margin-bottom: 0;padding: 0.3em;box-sizing: border-box;text-align: center;}#sk-container-id-1 label.sk-toggleable__label-arrow:before {content: \"▸\";float: left;margin-right: 0.25em;color: #696969;}#sk-container-id-1 label.sk-toggleable__label-arrow:hover:before {color: black;}#sk-container-id-1 div.sk-estimator:hover label.sk-toggleable__label-arrow:before {color: black;}#sk-container-id-1 div.sk-toggleable__content {max-height: 0;max-width: 0;overflow: hidden;text-align: left;background-color: #f0f8ff;}#sk-container-id-1 div.sk-toggleable__content pre {margin: 0.2em;color: black;border-radius: 0.25em;background-color: #f0f8ff;}#sk-container-id-1 input.sk-toggleable__control:checked~div.sk-toggleable__content {max-height: 200px;max-width: 100%;overflow: auto;}#sk-container-id-1 input.sk-toggleable__control:checked~label.sk-toggleable__label-arrow:before {content: \"▾\";}#sk-container-id-1 div.sk-estimator input.sk-toggleable__control:checked~label.sk-toggleable__label {background-color: #d4ebff;}#sk-container-id-1 div.sk-label input.sk-toggleable__control:checked~label.sk-toggleable__label {background-color: #d4ebff;}#sk-container-id-1 input.sk-hidden--visually {border: 0;clip: rect(1px 1px 1px 1px);clip: rect(1px, 1px, 1px, 1px);height: 1px;margin: -1px;overflow: hidden;padding: 0;position: absolute;width: 1px;}#sk-container-id-1 div.sk-estimator {font-family: monospace;background-color: #f0f8ff;border: 1px dotted black;border-radius: 0.25em;box-sizing: border-box;margin-bottom: 0.5em;}#sk-container-id-1 div.sk-estimator:hover {background-color: #d4ebff;}#sk-container-id-1 div.sk-parallel-item::after {content: \"\";width: 100%;border-bottom: 1px solid gray;flex-grow: 1;}#sk-container-id-1 div.sk-label:hover label.sk-toggleable__label {background-color: #d4ebff;}#sk-container-id-1 div.sk-serial::before {content: \"\";position: absolute;border-left: 1px solid gray;box-sizing: border-box;top: 0;bottom: 0;left: 50%;z-index: 0;}#sk-container-id-1 div.sk-serial {display: flex;flex-direction: column;align-items: center;background-color: white;padding-right: 0.2em;padding-left: 0.2em;position: relative;}#sk-container-id-1 div.sk-item {position: relative;z-index: 1;}#sk-container-id-1 div.sk-parallel {display: flex;align-items: stretch;justify-content: center;background-color: white;position: relative;}#sk-container-id-1 div.sk-item::before, #sk-container-id-1 div.sk-parallel-item::before {content: \"\";position: absolute;border-left: 1px solid gray;box-sizing: border-box;top: 0;bottom: 0;left: 50%;z-index: -1;}#sk-container-id-1 div.sk-parallel-item {display: flex;flex-direction: column;z-index: 1;position: relative;background-color: white;}#sk-container-id-1 div.sk-parallel-item:first-child::after {align-self: flex-end;width: 50%;}#sk-container-id-1 div.sk-parallel-item:last-child::after {align-self: flex-start;width: 50%;}#sk-container-id-1 div.sk-parallel-item:only-child::after {width: 0;}#sk-container-id-1 div.sk-dashed-wrapped {border: 1px dashed gray;margin: 0 0.4em 0.5em 0.4em;box-sizing: border-box;padding-bottom: 0.4em;background-color: white;}#sk-container-id-1 div.sk-label label {font-family: monospace;font-weight: bold;display: inline-block;line-height: 1.2em;}#sk-container-id-1 div.sk-label-container {text-align: center;}#sk-container-id-1 div.sk-container {/* jupyter's `normalize.less` sets `[hidden] { display: none; }` but bootstrap.min.css set `[hidden] { display: none !important; }` so we also need the `!important` here to be able to override the default hidden behavior on the sphinx rendered scikit-learn.org. See: https://github.com/scikit-learn/scikit-learn/issues/21755 */display: inline-block !important;position: relative;}#sk-container-id-1 div.sk-text-repr-fallback {display: none;}</style><div id=\"sk-container-id-1\" class=\"sk-top-container\"><div class=\"sk-text-repr-fallback\"><pre>LinearRegression()</pre><b>In a Jupyter environment, please rerun this cell to show the HTML representation or trust the notebook. <br />On GitHub, the HTML representation is unable to render, please try loading this page with nbviewer.org.</b></div><div class=\"sk-container\" hidden><div class=\"sk-item\"><div class=\"sk-estimator sk-toggleable\"><input class=\"sk-toggleable__control sk-hidden--visually\" id=\"sk-estimator-id-1\" type=\"checkbox\" checked><label for=\"sk-estimator-id-1\" class=\"sk-toggleable__label sk-toggleable__label-arrow\">LinearRegression</label><div class=\"sk-toggleable__content\"><pre>LinearRegression()</pre></div></div></div></div></div>"
      ],
      "text/plain": [
       "LinearRegression()"
      ]
     },
     "execution_count": 31,
     "metadata": {},
     "output_type": "execute_result"
    }
   ],
   "source": [
    "sales_lm.fit(X_train ,y_train)"
   ]
  },
  {
   "cell_type": "code",
   "execution_count": 32,
   "id": "b84d2d8d-d939-4ea2-8574-55c34832f2a0",
   "metadata": {},
   "outputs": [],
   "source": [
    "#prediction\n",
    "prediction = sales_lm.predict(X_test)"
   ]
  },
  {
   "cell_type": "code",
   "execution_count": 33,
   "id": "eb2a61c5-3366-4134-9580-533fd8f20102",
   "metadata": {},
   "outputs": [
    {
     "name": "stdout",
     "output_type": "stream",
     "text": [
      "r2: 0.9344514647592167\n",
      "intercept: -208.44158303541553\n",
      "coefficient: [ 6.06477772e-01 -5.19258421e+00  1.56367794e-03]\n"
     ]
    }
   ],
   "source": [
    "from sklearn.metrics import r2_score\n",
    "r2 = r2_score(y_test , prediction )\n",
    "print('r2:',r2)\n",
    "print('intercept:',sales_lm.intercept_)\n",
    "print('coefficient:', sales_lm.coef_)"
   ]
  },
  {
   "cell_type": "code",
   "execution_count": 34,
   "id": "44a963b5-16db-4b4e-b483-383cfcc24574",
   "metadata": {},
   "outputs": [
    {
     "name": "stdout",
     "output_type": "stream",
     "text": [
      "2982322.146285126\n"
     ]
    }
   ],
   "source": [
    "#mean square error\n",
    "from sklearn.metrics import mean_squared_error\n",
    "mse=mean_squared_error(y_test, prediction)\n",
    "print(mse)"
   ]
  },
  {
   "cell_type": "code",
   "execution_count": null,
   "id": "1a426b4f-f5f6-41fa-92cd-08e72bcb9db8",
   "metadata": {},
   "outputs": [],
   "source": []
  }
 ],
 "metadata": {
  "kernelspec": {
   "display_name": "Python 3 [3.10]",
   "language": "python",
   "name": "python3"
  },
  "language_info": {
   "codemirror_mode": {
    "name": "ipython",
    "version": 3
   },
   "file_extension": ".py",
   "mimetype": "text/x-python",
   "name": "python",
   "nbconvert_exporter": "python",
   "pygments_lexer": "ipython3",
   "version": "3.10.2"
  }
 },
 "nbformat": 4,
 "nbformat_minor": 5
}
